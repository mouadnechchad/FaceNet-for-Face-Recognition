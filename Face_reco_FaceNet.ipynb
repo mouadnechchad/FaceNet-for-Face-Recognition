{
  "cells": [
    {
      "cell_type": "markdown",
      "metadata": {
        "id": "view-in-github",
        "colab_type": "text"
      },
      "source": [
        "<a href=\"https://colab.research.google.com/github/mouadnechchad/FaceNet-for-Face-Recognition/blob/main/Face_reco_FaceNet.ipynb\" target=\"_parent\"><img src=\"https://colab.research.google.com/assets/colab-badge.svg\" alt=\"Open In Colab\"/></a>"
      ]
    },
    {
      "cell_type": "markdown",
      "metadata": {
        "id": "D1Xo2gr1wztF"
      },
      "source": [
        "**Face Recognition using Transfer Learning from FaceNet**"
      ]
    },
    {
      "cell_type": "code",
      "execution_count": null,
      "metadata": {
        "colab": {
          "base_uri": "https://localhost:8080/"
        },
        "id": "MdPWeDOjXB5u",
        "outputId": "219bc8cc-b81c-42e1-a929-9969b42a4c80"
      },
      "outputs": [
        {
          "output_type": "stream",
          "name": "stdout",
          "text": [
            "Collecting keras-facenet\n",
            "  Downloading keras-facenet-0.3.2.tar.gz (10 kB)\n",
            "  Preparing metadata (setup.py) ... \u001b[?25l\u001b[?25hdone\n",
            "Collecting mtcnn (from keras-facenet)\n",
            "  Downloading mtcnn-0.1.1-py3-none-any.whl (2.3 MB)\n",
            "\u001b[2K     \u001b[90m━━━━━━━━━━━━━━━━━━━━━━━━━━━━━━━━━━━━━━━━\u001b[0m \u001b[32m2.3/2.3 MB\u001b[0m \u001b[31m26.9 MB/s\u001b[0m eta \u001b[36m0:00:00\u001b[0m\n",
            "\u001b[?25hRequirement already satisfied: keras>=2.0.0 in /usr/local/lib/python3.10/dist-packages (from mtcnn->keras-facenet) (2.14.0)\n",
            "Requirement already satisfied: opencv-python>=4.1.0 in /usr/local/lib/python3.10/dist-packages (from mtcnn->keras-facenet) (4.8.0.76)\n",
            "Requirement already satisfied: numpy>=1.21.2 in /usr/local/lib/python3.10/dist-packages (from opencv-python>=4.1.0->mtcnn->keras-facenet) (1.23.5)\n",
            "Building wheels for collected packages: keras-facenet\n",
            "  Building wheel for keras-facenet (setup.py) ... \u001b[?25l\u001b[?25hdone\n",
            "  Created wheel for keras-facenet: filename=keras_facenet-0.3.2-py3-none-any.whl size=10370 sha256=d7e6ec1e4c298f4f6b21456344e5f8652aaeb8144aa1dd71e563045c924731a5\n",
            "  Stored in directory: /root/.cache/pip/wheels/1d/d8/a9/85cf04ea29321d2afcb82c0caaafdca9195385f9d68cbc7185\n",
            "Successfully built keras-facenet\n",
            "Installing collected packages: mtcnn, keras-facenet\n",
            "Successfully installed keras-facenet-0.3.2 mtcnn-0.1.1\n"
          ]
        }
      ],
      "source": [
        "!pip install keras-facenet"
      ]
    },
    {
      "cell_type": "code",
      "execution_count": null,
      "metadata": {
        "colab": {
          "base_uri": "https://localhost:8080/"
        },
        "id": "Skc-3PSld6Zu",
        "outputId": "abbca3bc-d53a-4956-a9a7-4b16919ade62"
      },
      "outputs": [
        {
          "output_type": "stream",
          "name": "stdout",
          "text": [
            "Mounted at /content/drive\n"
          ]
        }
      ],
      "source": [
        "from google.colab import drive\n",
        "drive.mount('/content/drive')"
      ]
    },
    {
      "cell_type": "code",
      "execution_count": null,
      "metadata": {
        "id": "AgaFVn_1XKeG"
      },
      "outputs": [],
      "source": [
        "from keras_facenet import FaceNet\n",
        "embedder = FaceNet()"
      ]
    },
    {
      "cell_type": "code",
      "execution_count": null,
      "metadata": {
        "id": "6NgSsEx_XbU1"
      },
      "outputs": [],
      "source": [
        "import matplotlib.image as mpimg\n",
        "import cv2\n",
        "import numpy as np\n",
        "import pandas as pd"
      ]
    },
    {
      "cell_type": "markdown",
      "source": [
        "## Loadng dataset\n"
      ],
      "metadata": {
        "id": "EXzP2FWzqySD"
      }
    },
    {
      "cell_type": "code",
      "execution_count": null,
      "metadata": {
        "id": "t662FTsAbgCE"
      },
      "outputs": [],
      "source": [
        "import cv2\n",
        "import numpy as np\n",
        "import pandas as pd\n",
        "\n",
        "def load_train_data(n):\n",
        "    lst = []\n",
        "    for i in range(1, n + 1):\n",
        "        x = cv2.imread(f'/content/drive/MyDrive/Computer_Vision/Face_Recogniton/Dataset/Train/{i}.jpg')\n",
        "        x = cv2.resize(x, (160, 160))  # Resize images to a consistent shape (160, 160, 3 for RGB images)\n",
        "        lst.append(x)\n",
        "    df = np.array(lst)\n",
        "    y_train = pd.read_csv('/content/drive/MyDrive/Computer_Vision/Face_Recogniton/Dataset/Train/y_train.csv', header=None)\n",
        "    y_train = y_train.values\n",
        "\n",
        "    return df, y_train"
      ]
    },
    {
      "cell_type": "code",
      "execution_count": null,
      "metadata": {
        "id": "phKwd5IVfkkf"
      },
      "outputs": [],
      "source": [
        "import cv2\n",
        "import numpy as np\n",
        "import pandas as pd\n",
        "\n",
        "def load_test_data(n):\n",
        "    lst = []\n",
        "    for i in range(1, n + 1):\n",
        "        x = cv2.imread(f'/content/drive/MyDrive/Computer_Vision/Face_Recogniton/Dataset/Test/{i}.jpg')\n",
        "        x = cv2.resize(x, (160, 160))  # Resize images to a consistent shape (160, 160, 3 for RGB images)\n",
        "        lst.append(x)\n",
        "    df = np.array(lst)\n",
        "    y_test = pd.read_csv('/content/drive/MyDrive/Computer_Vision/Face_Recogniton/Dataset/Test/y_test.csv', header=None)\n",
        "    y_test = y_test.values\n",
        "\n",
        "    return df, y_test"
      ]
    },
    {
      "cell_type": "code",
      "execution_count": null,
      "metadata": {
        "colab": {
          "base_uri": "https://localhost:8080/"
        },
        "id": "hzR57dbZaruU",
        "outputId": "6f23de70-4f6d-4e5e-c6e9-89385ef3692d"
      },
      "outputs": [
        {
          "output_type": "stream",
          "name": "stdout",
          "text": [
            "X_Train data shape= (12, 160, 160, 3)\n",
            "X_Test data shape= (8, 160, 160, 3)\n",
            "y_Train data shape= (12, 1)\n",
            "y_Test data shape= (8, 1)\n"
          ]
        }
      ],
      "source": [
        "'''\n",
        "Loading the data set\n",
        "'''\n",
        "X_train_orig,y_train = load_train_data(12)\n",
        "X_test_orig,y_test = load_test_data(8)\n",
        "print('X_Train data shape=',X_train_orig.shape)\n",
        "print('X_Test data shape=',X_test_orig.shape)\n",
        "print('y_Train data shape=',y_train.shape)\n",
        "print('y_Test data shape=',y_test.shape)"
      ]
    },
    {
      "cell_type": "code",
      "execution_count": null,
      "metadata": {
        "colab": {
          "base_uri": "https://localhost:8080/"
        },
        "id": "M27mxGWVX4ll",
        "outputId": "af5b2f02-91b2-47c5-9eed-22c4438ee696"
      },
      "outputs": [
        {
          "output_type": "stream",
          "name": "stdout",
          "text": [
            "1/1 [==============================] - 11s 11s/step\n",
            "1/1 [==============================] - 1s 845ms/step\n",
            "Train embed shape= (12, 512)\n",
            "Test embed shape= (8, 512)\n"
          ]
        }
      ],
      "source": [
        "X_train = embedder.embeddings(X_train_orig)\n",
        "X_test = embedder.embeddings(X_test_orig)\n",
        "print('Train embed shape=',X_train.shape)\n",
        "print('Test embed shape=',X_test.shape)"
      ]
    },
    {
      "cell_type": "markdown",
      "source": [
        "## Train the model"
      ],
      "metadata": {
        "id": "tqXO5L5sq8cU"
      }
    },
    {
      "cell_type": "code",
      "execution_count": null,
      "metadata": {
        "id": "wW23dLxopdEJ"
      },
      "outputs": [],
      "source": [
        "from sklearn.linear_model import LogisticRegression"
      ]
    },
    {
      "cell_type": "code",
      "execution_count": null,
      "metadata": {
        "id": "DLYB1nDrplYz"
      },
      "outputs": [],
      "source": [
        "model = LogisticRegression()"
      ]
    },
    {
      "cell_type": "code",
      "execution_count": 14,
      "metadata": {
        "id": "O7AtjTnFpo_3"
      },
      "outputs": [],
      "source": [
        "model.fit(X_train,y_train.reshape(-1));"
      ]
    },
    {
      "cell_type": "code",
      "execution_count": 15,
      "metadata": {
        "colab": {
          "base_uri": "https://localhost:8080/"
        },
        "id": "zRFJcD42pzoi",
        "outputId": "28270f3d-c1bb-417e-bf43-c279d8e89d2f"
      },
      "outputs": [
        {
          "output_type": "execute_result",
          "data": {
            "text/plain": [
              "array([[1],\n",
              "       [1],\n",
              "       [2],\n",
              "       [2],\n",
              "       [3],\n",
              "       [3],\n",
              "       [4],\n",
              "       [4]])"
            ]
          },
          "metadata": {},
          "execution_count": 15
        }
      ],
      "source": [
        "#Predicted faces\n",
        "y_pred = model.predict(X_test).reshape(-1,1)\n",
        "y_pred"
      ]
    },
    {
      "cell_type": "code",
      "execution_count": 16,
      "metadata": {
        "colab": {
          "base_uri": "https://localhost:8080/"
        },
        "id": "dC_U-MFpwME9",
        "outputId": "dc0fb60b-43f6-46e7-b4ad-9c88605ea08c"
      },
      "outputs": [
        {
          "output_type": "execute_result",
          "data": {
            "text/plain": [
              "array([[1],\n",
              "       [1],\n",
              "       [2],\n",
              "       [2],\n",
              "       [3],\n",
              "       [3],\n",
              "       [4],\n",
              "       [4]])"
            ]
          },
          "metadata": {},
          "execution_count": 16
        }
      ],
      "source": [
        "#True faces\n",
        "y_test"
      ]
    },
    {
      "cell_type": "markdown",
      "source": [
        "## Model Performance"
      ],
      "metadata": {
        "id": "bs6hdzS-rFx8"
      }
    },
    {
      "cell_type": "code",
      "execution_count": 17,
      "metadata": {
        "colab": {
          "base_uri": "https://localhost:8080/"
        },
        "id": "Z1upxkI1wUH0",
        "outputId": "4f4b0ce8-459d-43ce-b309-dc7468ba85c8"
      },
      "outputs": [
        {
          "output_type": "stream",
          "name": "stdout",
          "text": [
            "Accuracy: 1.0\n"
          ]
        }
      ],
      "source": [
        "from sklearn.metrics import accuracy_score\n",
        "\n",
        "accuracy = accuracy_score(y_test, y_pred)\n",
        "print(\"Accuracy:\", accuracy)\n"
      ]
    },
    {
      "cell_type": "markdown",
      "source": [
        "- We obtaine a perfect model performance."
      ],
      "metadata": {
        "id": "zktLooGhrQuv"
      }
    },
    {
      "cell_type": "markdown",
      "source": [
        "## Make Predictions"
      ],
      "metadata": {
        "id": "ZS8ZgEF_rgHp"
      }
    },
    {
      "cell_type": "code",
      "execution_count": 18,
      "metadata": {
        "id": "9fWaX1cplT4s"
      },
      "outputs": [],
      "source": [
        "import cv2\n",
        "import numpy as np\n",
        "\n",
        "def predict_label_for_image(model, image_path, embedder):\n",
        "    \"\"\"\n",
        "    Make predictions using a trained logistic regression model on an input image.\n",
        "\n",
        "    Args:\n",
        "    - model: The trained logistic regression model.\n",
        "    - image_path: Path to the input image.\n",
        "    - embedder: The function that generates embeddings from images.\n",
        "\n",
        "    Returns:\n",
        "    - predicted_label: The predicted label for the input image.\n",
        "    \"\"\"\n",
        "    # Load and preprocess the image\n",
        "    img = cv2.imread(image_path)\n",
        "    img = cv2.resize(img, (160, 160))  # Resize to the same shape as your training data\n",
        "    embedding = embedder.embeddings(np.array([img]))\n",
        "\n",
        "    # Use the logistic regression model to make a prediction\n",
        "    predicted_label = model.predict(embedding)\n",
        "\n",
        "    return predicted_label\n"
      ]
    },
    {
      "cell_type": "code",
      "source": [
        "predicted_label = predict_label_for_image(model, '/content/drive/MyDrive/Computer_Vision/Face_Recogniton/Dataset/Test/2.jpg', embedder)\n",
        "predicted_label"
      ],
      "metadata": {
        "colab": {
          "base_uri": "https://localhost:8080/"
        },
        "id": "u9zv9H1ISmVz",
        "outputId": "89f5089e-fe07-4ebc-85d2-0ca453ca84fc"
      },
      "execution_count": 20,
      "outputs": [
        {
          "output_type": "stream",
          "name": "stdout",
          "text": [
            "1/1 [==============================] - 0s 91ms/step\n"
          ]
        },
        {
          "output_type": "execute_result",
          "data": {
            "text/plain": [
              "array([1])"
            ]
          },
          "metadata": {},
          "execution_count": 20
        }
      ]
    },
    {
      "cell_type": "markdown",
      "source": [
        "- We get the predicted label that corresponds to a person.\n"
      ],
      "metadata": {
        "id": "VE4sMTXpsQW2"
      }
    },
    {
      "cell_type": "code",
      "source": [
        "y_test[0]"
      ],
      "metadata": {
        "colab": {
          "base_uri": "https://localhost:8080/"
        },
        "id": "YFHX-yf9TAXC",
        "outputId": "d9b80c2b-4532-4f5d-eda1-fe3aaecd955e"
      },
      "execution_count": null,
      "outputs": [
        {
          "output_type": "execute_result",
          "data": {
            "text/plain": [
              "array([1])"
            ]
          },
          "metadata": {},
          "execution_count": 36
        }
      ]
    },
    {
      "cell_type": "markdown",
      "source": [
        "## Save the model"
      ],
      "metadata": {
        "id": "-P77nLparsgh"
      }
    },
    {
      "cell_type": "code",
      "source": [
        "!pip install joblib"
      ],
      "metadata": {
        "colab": {
          "base_uri": "https://localhost:8080/"
        },
        "id": "m-dtY8-AY6vS",
        "outputId": "e9d28b6e-ebc1-48b8-ba6d-d4fbd63b25f5"
      },
      "execution_count": null,
      "outputs": [
        {
          "output_type": "stream",
          "name": "stdout",
          "text": [
            "Requirement already satisfied: joblib in /usr/local/lib/python3.10/dist-packages (1.3.2)\n"
          ]
        }
      ]
    },
    {
      "cell_type": "code",
      "source": [
        "import joblib\n",
        "\n",
        "# Assuming you have a trained logistic regression model named 'model'\n",
        "# Save the model to a file\n",
        "model_filename = '/content/drive/MyDrive/Computer_Vision/Face_Recogniton/face_recognition.pkl'\n",
        "joblib.dump(model, model_filename)\n"
      ],
      "metadata": {
        "colab": {
          "base_uri": "https://localhost:8080/"
        },
        "id": "qCtA7avocFKZ",
        "outputId": "be6e0d0e-7092-486b-acc7-a4d0bb6c0754"
      },
      "execution_count": null,
      "outputs": [
        {
          "output_type": "execute_result",
          "data": {
            "text/plain": [
              "['/content/drive/MyDrive/Computer_Vision/Face_Recogniton/face_recognition.pkl']"
            ]
          },
          "metadata": {},
          "execution_count": 38
        }
      ]
    }
  ],
  "metadata": {
    "accelerator": "GPU",
    "colab": {
      "provenance": [],
      "include_colab_link": true
    },
    "kernelspec": {
      "display_name": "Python 3",
      "language": "python",
      "name": "python3"
    },
    "language_info": {
      "codemirror_mode": {
        "name": "ipython",
        "version": 3
      },
      "file_extension": ".py",
      "mimetype": "text/x-python",
      "name": "python",
      "nbconvert_exporter": "python",
      "pygments_lexer": "ipython3",
      "version": "3.7.3"
    }
  },
  "nbformat": 4,
  "nbformat_minor": 0
}